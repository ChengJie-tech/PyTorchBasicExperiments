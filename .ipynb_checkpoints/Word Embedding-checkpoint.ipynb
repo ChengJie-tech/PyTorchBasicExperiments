{
 "cells": [
  {
   "cell_type": "code",
   "execution_count": 1,
   "id": "e7073a7b",
   "metadata": {
    "ExecuteTime": {
     "end_time": "2021-09-05T03:40:19.127781Z",
     "start_time": "2021-09-05T03:40:19.123101Z"
    }
   },
   "outputs": [
    {
     "ename": "SyntaxError",
     "evalue": "invalid character in identifier (<ipython-input-1-7c996fccbf92>, line 1)",
     "output_type": "error",
     "traceback": [
      "\u001b[0;36m  File \u001b[0;32m\"<ipython-input-1-7c996fccbf92>\"\u001b[0;36m, line \u001b[0;32m1\u001b[0m\n\u001b[0;31m    训练词向量的尝试（\u001b[0m\n\u001b[0m            ^\u001b[0m\n\u001b[0;31mSyntaxError\u001b[0m\u001b[0;31m:\u001b[0m invalid character in identifier\n"
     ]
    }
   ],
   "source": [
    "训练词向量的尝试（\n",
    "-----\n",
    "使用skip-gram模型，和论文中noice contrastive sampling的目标函数"
   ]
  },
  {
   "cell_type": "code",
   "execution_count": null,
   "id": "4450d2d2",
   "metadata": {},
   "outputs": [],
   "source": [
    "import torch\n",
    "import torch.nn as nn\n",
    "import torch.nn.functional as F\n",
    "import torch.utils.data as tud\n",
    "\n",
    "from collections import Counter\n",
    "import numpy as np\n",
    "import random\n",
    "import math\n",
    "\n",
    "import pandas as pd\n",
    "import scipy\n",
    "import sklearn\n",
    "from sklearn.metrics.pairwise import cosine_similarity\n",
    "\n",
    "USE_CUDA = torch.cuda.is_available()\n",
    "\n",
    "# fix seed\n",
    "random.seed(1)\n",
    "np.random.seed(1)\n",
    "torch.manual_seed(1)\n",
    "if USE_CUDA:\n",
    "    torch.cuda.manual_seed(1)\n",
    "    \n",
    "# hyperparameters\n",
    "C = 3 # context window\n",
    "K = 100 # number of negative samples\n",
    "NUM_EPOCHS = 2\n",
    "MAX_VOCAB_SIZE = 30000\n",
    "BATCH_SIZE = 128\n",
    "LEARNING_RATE = 0.2\n",
    "EMBEDDING_SIZE = 100\n",
    "\n",
    "def word_tokenize(text):\n",
    "    return text.split()"
   ]
  },
  {
   "cell_type": "code",
   "execution_count": null,
   "id": "9e91940b",
   "metadata": {},
   "outputs": [],
   "source": [
    "- 读取文本文件中文字，创建辞典\n",
    "- 用UNK表示所有不常见单词\n",
    "- one-hot表示，word2index & index2word"
   ]
  },
  {
   "cell_type": "code",
   "execution_count": null,
   "id": "29b0ac44",
   "metadata": {},
   "outputs": [],
   "source": []
  },
  {
   "cell_type": "code",
   "execution_count": null,
   "id": "8e2d0c9f",
   "metadata": {},
   "outputs": [],
   "source": []
  }
 ],
 "metadata": {
  "kernelspec": {
   "display_name": "Python 3",
   "language": "python",
   "name": "python3"
  },
  "language_info": {
   "codemirror_mode": {
    "name": "ipython",
    "version": 3
   },
   "file_extension": ".py",
   "mimetype": "text/x-python",
   "name": "python",
   "nbconvert_exporter": "python",
   "pygments_lexer": "ipython3",
   "version": "3.8.10"
  },
  "toc": {
   "base_numbering": 1,
   "nav_menu": {},
   "number_sections": false,
   "sideBar": true,
   "skip_h1_title": false,
   "title_cell": "Table of Contents",
   "title_sidebar": "Contents",
   "toc_cell": false,
   "toc_position": {},
   "toc_section_display": true,
   "toc_window_display": false
  }
 },
 "nbformat": 4,
 "nbformat_minor": 5
}
